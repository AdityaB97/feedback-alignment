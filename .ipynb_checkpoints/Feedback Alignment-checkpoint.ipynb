{
 "cells": [
  {
   "cell_type": "markdown",
   "metadata": {},
   "source": [
    "# Feedback Alignment"
   ]
  },
  {
   "cell_type": "markdown",
   "metadata": {},
   "source": [
    "##### Imports and helper functions"
   ]
  },
  {
   "cell_type": "code",
   "execution_count": 9,
   "metadata": {},
   "outputs": [],
   "source": [
    "import numpy as np\n",
    "import torch as th\n",
    "import matplotlib.pyplot as plt\n",
    "import torchvision\n",
    "from tqdm import tqdm\n",
    "from sklearn.model_selection import train_test_split"
   ]
  },
  {
   "cell_type": "code",
   "execution_count": 2,
   "metadata": {},
   "outputs": [],
   "source": [
    "def get_loaders(batch_size, fashion=False):\n",
    "    mnist = torchvision.datasets.MNIST\n",
    "    if fashion:\n",
    "        mnist = torchvision.datasets.FashionMNIST\n",
    "\n",
    "    transform = torchvision.transforms.Compose(\n",
    "        [torchvision.transforms.ToTensor(),])\n",
    "\n",
    "    trainloader = th.utils.data.DataLoader(\n",
    "        mnist(root=\"./data\", train=True, download=True, transform=transform),\n",
    "        batch_size=batch_size,\n",
    "        shuffle=True,\n",
    "        num_workers=2)\n",
    "    testloader = th.utils.data.DataLoader(\n",
    "        mnist(root=\"./data\", train=False, download=True, transform=transform),\n",
    "        batch_size=batch_size,\n",
    "        shuffle=False,\n",
    "        num_workers=2)\n",
    "    return trainloader, testloader"
   ]
  },
  {
   "cell_type": "markdown",
   "metadata": {},
   "source": [
    "## Linear function approximation"
   ]
  },
  {
   "cell_type": "markdown",
   "metadata": {},
   "source": [
    "<img href=\"images/linear.png\">\n",
    "We are considering a three-layer network of linear neurons, shown above. The network's output is $\\boldsymbol{y}=W\\boldsymbol{h}$, where $\\boldsymbol{h}$ is the hidden-unit activity vector, given by $\\boldsymbol{h}=W_0\\boldsymbol{x}$, where $\\boldsymbol{x}$ is the input to the network. $W_0$ is the matrix of synaptic weights from $\\boldsymbol{x}$ to $\\boldsymbol{h}$, and $W$ is the weights from $\\boldsymbol{h}$ to $\\boldsymbol{y}$. The network learns to approximate a linear function, $T$ (for 'target'). It's goal is to reduce the squared error, or loss, $\\mathcal{L}=\\frac{1}{2}\\boldsymbol{e}^{T}\\boldsymbol{e}$, where the error $\\boldsymbol{e}=\\boldsymbol{y^*}-\\boldsymbol{y}=T\\boldsymbol{x}-\\boldsymbol{y}$. To train this network, the feedback alignment algorithm adjusts $W$ in the same way as backprop, i.e. $\\Delta W\\propto\\frac{\\partial\\mathcal{L}}{\\partial W}=-\\boldsymbol{e}\\boldsymbol{h}^T$, but for $W_0$, it uses a simpler formula, which needs no information about $W$ or any other synapses, but instead, sends $\\boldsymbol{e}$ through a fixed random matrix $B$:\n",
    "$$\\Delta W_0\\propto B\\boldsymbol{e}\\boldsymbol{x}^T$$"
   ]
  },
  {
   "cell_type": "markdown",
   "metadata": {},
   "source": [
    "### Data Generation"
   ]
  },
  {
   "cell_type": "markdown",
   "metadata": {},
   "source": [
    "The target linear function $T$ maps vectors from a $30$- to a $10$-dimensional space, i.e. $T$ has a shape of $10\\times 30$. The elements of $T$ are drawn at random, that is, uniformly, from the range $[-1,1]$. Once chosen, the target matrix is fixed, so that each algorithm (i.e. feedback alignment and backpropagation) tried to learn the same function. Moreover, all algorithms are trained on the same sequence of input/output pairs, with $x\\sim{}\\mathcal{N}(\\mu=0,\\Sigma=I)$, $y^*=Tx$. We have chosen the **number of inputs** to be **100**."
   ]
  },
  {
   "cell_type": "markdown",
   "metadata": {},
   "source": [
    "##### linear function, inputs, and output generation"
   ]
  },
  {
   "cell_type": "code",
   "execution_count": 3,
   "metadata": {},
   "outputs": [],
   "source": [
    "num_inputs = 100\n",
    "\n",
    "T = np.random.uniform(low=-1.0, high=1.0, size=(10, 30))\n",
    "x_data = np.random.randn(30, num_inputs)\n",
    "y_data = T @ x_data"
   ]
  },
  {
   "cell_type": "markdown",
   "metadata": {},
   "source": [
    "`x_data`: `30 x num_inputs`\n",
    "\n",
    "`y_data`: `10 x num_inputs`"
   ]
  },
  {
   "cell_type": "markdown",
   "metadata": {},
   "source": [
    "##### Weights and biases random initalization"
   ]
  },
  {
   "cell_type": "markdown",
   "metadata": {},
   "source": [
    "The elements of $B$ are drawn from the uniform distribution over $[-0.5, 0.5)$, while the elements of the network weight matrix, $W_0$ and $W$, are drawn unifromly from the range $[-0.01,0.01)$."
   ]
  },
  {
   "cell_type": "code",
   "execution_count": 4,
   "metadata": {},
   "outputs": [],
   "source": [
    "a = 0.01\n",
    "W0 = np.random.uniform(-a, a, (20, 30))\n",
    "b0 = np.random.uniform(-a, a, 20)\n",
    "\n",
    "W = np.random.uniform(-a, a, (10, 20))\n",
    "b = np.random.uniform(-a, a, 10)\n",
    "\n",
    "a = 0.5\n",
    "B = np.random.uniform(-a, a, (20, 10))"
   ]
  },
  {
   "cell_type": "markdown",
   "metadata": {},
   "source": [
    "##### Training and Test dataset preparation"
   ]
  },
  {
   "cell_type": "code",
   "execution_count": 5,
   "metadata": {},
   "outputs": [],
   "source": [
    "x_train, x_test, y_train, y_test = train_test_split(x_data.T, y_data.T, test_size=0.25, shuffle=True)\n",
    "x_train, x_test, y_train, y_test = x_train.T, x_test.T, y_train.T, y_test.T"
   ]
  },
  {
   "cell_type": "code",
   "execution_count": 6,
   "metadata": {},
   "outputs": [
    {
     "data": {
      "text/plain": [
       "(30, 25)"
      ]
     },
     "execution_count": 6,
     "metadata": {},
     "output_type": "execute_result"
    }
   ],
   "source": [
    "x_test.shape"
   ]
  },
  {
   "cell_type": "markdown",
   "metadata": {},
   "source": [
    "##### Hyperparameters"
   ]
  },
  {
   "cell_type": "code",
   "execution_count": 7,
   "metadata": {},
   "outputs": [],
   "source": [
    "eta = 0.1\n",
    "num_epochs = 1000\n",
    "batch_size = 20\n",
    "num_batches = x_train.shape[1] / batch_size"
   ]
  },
  {
   "cell_type": "markdown",
   "metadata": {},
   "source": [
    "##### Creating batches"
   ]
  },
  {
   "cell_type": "code",
   "execution_count": 8,
   "metadata": {},
   "outputs": [],
   "source": [
    "x_train_batches, y_train_batches = np.split(x_train, num_batches, axis=1), np.split(y_train, num_batches, axis=1)"
   ]
  },
  {
   "cell_type": "code",
   "execution_count": 9,
   "metadata": {},
   "outputs": [
    {
     "name": "stdout",
     "output_type": "stream",
     "text": [
      "      Epoch 0\n",
      "      Current loss: 4718.910652847859\n",
      "      Epoch 100\n",
      "      Current loss: 0.03493187827713598\n",
      "      Epoch 200\n",
      "      Current loss: 0.0001945607739556033\n",
      "      Epoch 300\n",
      "      Current loss: 2.294901636689887e-06\n",
      "      Epoch 400\n",
      "      Current loss: 3.982002242190957e-08\n",
      "      Epoch 500\n",
      "      Current loss: 8.596120539673434e-10\n",
      "      Epoch 600\n",
      "      Current loss: 2.024267746813628e-11\n",
      "      Epoch 700\n",
      "      Current loss: 4.899382780485309e-13\n",
      "      Epoch 800\n",
      "      Current loss: 1.1942206862273635e-14\n",
      "      Epoch 900\n",
      "      Current loss: 2.913938723654248e-16\n"
     ]
    }
   ],
   "source": [
    "for epoch in range(num_epochs):\n",
    "    \n",
    "    delta_W0, delta_W, loss = 0, 0, 0\n",
    "    for i in range(len(x_train_batches)):\n",
    "        training_data, training_labels = x_train_batches[i], y_train_batches[i]\n",
    "        \n",
    "        h = W0 @ training_data\n",
    "        y = W @ h\n",
    "        \n",
    "        e = training_labels - y\n",
    "        loss += 0.5 * np.square(np.linalg.norm(e))\n",
    "        \n",
    "        delta_BP = W.T @ e\n",
    "        delta_FA = B @ e\n",
    "        \n",
    "        delta_W = delta_W + e @ h.T\n",
    "        delta_W0 = delta_W0 + B @ e @ training_data.T\n",
    "    \n",
    "    W = W + (eta / (x_train.shape[1])) * delta_W\n",
    "    W0 = W0 + (eta / (x_train.shape[1])) * delta_W0\n",
    "    if epoch % 100 == 0:\n",
    "        print(f\"      Epoch {epoch}\")\n",
    "        print(f\"      Current loss: {loss}\")"
   ]
  },
  {
   "cell_type": "code",
   "execution_count": 10,
   "metadata": {},
   "outputs": [
    {
     "data": {
      "text/plain": [
       "1.1185654454575129e-17"
      ]
     },
     "execution_count": 10,
     "metadata": {},
     "output_type": "execute_result"
    }
   ],
   "source": [
    "h = W0 @ x_test\n",
    "y = W @ h\n",
    "e = y_test - y\n",
    "test_error = 0.5 * np.square(np.linalg.norm(e))\n",
    "test_error"
   ]
  },
  {
   "cell_type": "markdown",
   "metadata": {},
   "source": [
    "## Non-Linear function approximation"
   ]
  },
  {
   "cell_type": "markdown",
   "metadata": {},
   "source": [
    "##### Hyperparameters"
   ]
  },
  {
   "cell_type": "code",
   "execution_count": 19,
   "metadata": {},
   "outputs": [],
   "source": [
    "eta = 0.1\n",
    "num_epochs = 1000\n",
    "batch_size = 20\n",
    "num_batches = (60000) / batch_size"
   ]
  },
  {
   "cell_type": "markdown",
   "metadata": {},
   "source": [
    "##### Weights and biases random initalization"
   ]
  },
  {
   "cell_type": "code",
   "execution_count": 11,
   "metadata": {},
   "outputs": [],
   "source": [
    "a = 0.1\n",
    "W0 = np.random.uniform(-a, a, (1000, 784))\n",
    "b0 = np.random.uniform(-a, a, 1000)\n",
    "\n",
    "W = np.random.uniform(-a, a, (10, 1000))\n",
    "b = np.random.uniform(-a, a, 10)\n",
    "\n",
    "a = 0.5\n",
    "B = np.random.uniform(-a, a, (1000, 10))"
   ]
  },
  {
   "cell_type": "code",
   "execution_count": 12,
   "metadata": {},
   "outputs": [],
   "source": [
    "u, s, vh = np.linalg.svd(W0)"
   ]
  },
  {
   "cell_type": "code",
   "execution_count": 14,
   "metadata": {},
   "outputs": [
    {
     "data": {
      "text/plain": [
       "[<matplotlib.lines.Line2D at 0x1244b0358>]"
      ]
     },
     "execution_count": 14,
     "metadata": {},
     "output_type": "execute_result"
    },
    {
     "data": {
      "image/png": "[encoded data removed]",
      "text/plain": [
       "<Figure size 432x288 with 1 Axes>"
      ]
     },
     "metadata": {
      "needs_background": "light"
     },
     "output_type": "display_data"
    }
   ],
   "source": [
    "plt.plot(s)"
   ]
  },
  {
   "cell_type": "markdown",
   "metadata": {},
   "source": [
    "##### Training and Test dataset preparation"
   ]
  },
  {
   "cell_type": "code",
   "execution_count": 21,
   "metadata": {},
   "outputs": [],
   "source": [
    " trainloader, testloader = get_loaders(batch_size)"
   ]
  },
  {
   "cell_type": "code",
   "execution_count": 22,
   "metadata": {},
   "outputs": [],
   "source": [
    "def sigma(x):\n",
    "    return 1 / (1 + np.exp(-x))"
   ]
  },
  {
   "cell_type": "code",
   "execution_count": 23,
   "metadata": {
    "scrolled": false
   },
   "outputs": [
    {
     "name": "stderr",
     "output_type": "stream",
     "text": [
      "\n",
      "      Epoch 0:   0%|          | 0/3000 [00:00<?, ?it/s]\u001b[A\n",
      "      Epoch 0:   0%|          | 5/3000 [00:00<01:00, 49.35it/s]\u001b[A\n",
      "      Epoch 0:   1%|          | 17/3000 [00:00<00:50, 59.60it/s]\u001b[A\n",
      "      Epoch 0:   1%|          | 29/3000 [00:00<00:42, 69.29it/s]\u001b[A\n",
      "      Epoch 0:   1%|▏         | 41/3000 [00:00<00:37, 78.43it/s]\u001b[A\n",
      "      Epoch 0:   2%|▏         | 53/3000 [00:00<00:34, 86.62it/s]\u001b[A\n",
      "      Epoch 0:   2%|▏         | 65/3000 [00:00<00:31, 93.07it/s]\u001b[A\n",
      "      Epoch 0:   3%|▎         | 77/3000 [00:00<00:29, 98.10it/s]\u001b[A\n",
      "      Epoch 0:   3%|▎         | 89/3000 [00:00<00:28, 102.98it/s]\u001b[A\n",
      "      Epoch 0:   3%|▎         | 101/3000 [00:00<00:27, 106.36it/s]\u001b[A\n",
      "      Epoch 0:   4%|▎         | 112/3000 [00:01<00:27, 103.32it/s]\u001b[A\n",
      "      Epoch 0:   4%|▍         | 123/3000 [00:01<00:29, 98.07it/s] \u001b[A\n",
      "      Epoch 0:   4%|▍         | 135/3000 [00:01<00:28, 102.30it/s]\u001b[A\n",
      "      Epoch 0:   5%|▍         | 147/3000 [00:01<00:27, 105.36it/s]\u001b[A\n",
      "      Epoch 0:   5%|▌         | 159/3000 [00:01<00:26, 107.44it/s]\u001b[A\n",
      "      Epoch 0:   6%|▌         | 170/3000 [00:01<00:26, 107.54it/s]\u001b[A\n",
      "      Epoch 0:   6%|▌         | 182/3000 [00:01<00:25, 109.34it/s]\u001b[A\n",
      "      Epoch 0:   6%|▋         | 193/3000 [00:01<00:26, 106.16it/s]\u001b[A\n",
      "      Epoch 0:   7%|▋         | 204/3000 [00:01<00:26, 104.36it/s]\u001b[A\n",
      "      Epoch 0:   7%|▋         | 216/3000 [00:02<00:25, 107.36it/s]\u001b[A\n",
      "      Epoch 0:   8%|▊         | 227/3000 [00:02<00:27, 102.52it/s]\u001b[A\n",
      "      Epoch 0:   8%|▊         | 238/3000 [00:02<00:26, 102.40it/s]\u001b[A\n",
      "      Epoch 0:   8%|▊         | 249/3000 [00:02<00:27, 100.35it/s]\u001b[A\n",
      "      Epoch 0:   9%|▊         | 260/3000 [00:02<00:30, 90.85it/s] \u001b[A\n",
      "      Epoch 0:   9%|▉         | 270/3000 [00:02<00:30, 89.61it/s]\u001b[A\n",
      "      Epoch 0:   9%|▉         | 281/3000 [00:02<00:28, 94.52it/s]\u001b[A\n",
      "      Epoch 0:  10%|▉         | 291/3000 [00:02<00:32, 82.41it/s]\u001b[A\n",
      "      Epoch 0:  10%|█         | 300/3000 [00:03<00:33, 80.26it/s]\u001b[A\n",
      "      Epoch 0:  10%|█         | 309/3000 [00:03<00:34, 78.78it/s]\u001b[A\n",
      "      Epoch 0:  11%|█         | 318/3000 [00:03<00:33, 79.59it/s]\u001b[A\n",
      "      Epoch 0:  11%|█         | 327/3000 [00:03<00:34, 78.39it/s]\u001b[A\n",
      "      Epoch 0:  11%|█         | 335/3000 [00:03<00:34, 78.38it/s]\u001b[A\n",
      "      Epoch 0:  12%|█▏        | 345/3000 [00:03<00:31, 83.65it/s]\u001b[A\n",
      "      Epoch 0:  12%|█▏        | 356/3000 [00:03<00:29, 89.90it/s]\u001b[A\n",
      "      Epoch 0:  12%|█▏        | 366/3000 [00:03<00:28, 92.54it/s]\u001b[A\n",
      "      Epoch 0:  13%|█▎        | 377/3000 [00:03<00:27, 96.49it/s]\u001b[A\n",
      "      Epoch 0:  13%|█▎        | 387/3000 [00:03<00:28, 92.46it/s]\u001b[A\n",
      "      Epoch 0:  13%|█▎        | 397/3000 [00:04<00:30, 86.19it/s]\u001b[A\n",
      "      Epoch 0:  14%|█▎        | 406/3000 [00:04<00:30, 86.32it/s]\u001b[A\n",
      "      Epoch 0:  14%|█▍        | 416/3000 [00:04<00:28, 89.22it/s]\u001b[A\n",
      "      Epoch 0:  14%|█▍        | 427/3000 [00:04<00:27, 93.79it/s]\u001b[A\n",
      "      Epoch 0:  15%|█▍        | 437/3000 [00:04<00:27, 91.89it/s]\u001b[A\n",
      "      Epoch 0:  15%|█▍        | 447/3000 [00:04<00:28, 89.95it/s]\u001b[A\n",
      "      Epoch 0:  15%|█▌        | 457/3000 [00:04<00:28, 88.57it/s]\u001b[A\n",
      "      Epoch 0:  16%|█▌        | 466/3000 [00:04<00:29, 87.37it/s]\u001b[A\n",
      "      Epoch 0:  16%|█▌        | 475/3000 [00:04<00:28, 87.25it/s]\u001b[A\n",
      "      Epoch 0:  16%|█▌        | 484/3000 [00:05<00:28, 87.34it/s]\u001b[A\n",
      "      Epoch 0:  16%|█▋        | 495/3000 [00:05<00:27, 91.80it/s]\u001b[A\n",
      "      Epoch 0:  17%|█▋        | 505/3000 [00:05<00:27, 92.01it/s]\u001b[A\n",
      "      Epoch 0:  17%|█▋        | 515/3000 [00:05<00:27, 89.38it/s]\u001b[A\n",
      "      Epoch 0:  17%|█▋        | 524/3000 [00:05<00:28, 85.65it/s]\u001b[A\n",
      "      Epoch 0:  18%|█▊        | 533/3000 [00:05<00:29, 84.69it/s]\u001b[A\n",
      "      Epoch 0:  18%|█▊        | 542/3000 [00:05<00:29, 84.75it/s]\u001b[A\n",
      "      Epoch 0:  18%|█▊        | 551/3000 [00:05<00:28, 84.55it/s]\u001b[A\n",
      "      Epoch 0:  19%|█▊        | 560/3000 [00:05<00:28, 84.43it/s]\u001b[A\n",
      "      Epoch 0:  19%|█▉        | 569/3000 [00:06<00:28, 84.18it/s]\u001b[AProcess Process-269:\n",
      "Process Process-270:\n",
      "Traceback (most recent call last):\n",
      "Traceback (most recent call last):\n",
      "  File \"/usr/local/Cellar/python/3.7.1/Frameworks/Python.framework/Versions/3.7/lib/python3.7/multiprocessing/process.py\", line 297, in _bootstrap\n",
      "    self.run()\n",
      "  File \"/usr/local/Cellar/python/3.7.1/Frameworks/Python.framework/Versions/3.7/lib/python3.7/multiprocessing/process.py\", line 297, in _bootstrap\n",
      "    self.run()\n",
      "  File \"/usr/local/Cellar/python/3.7.1/Frameworks/Python.framework/Versions/3.7/lib/python3.7/multiprocessing/process.py\", line 99, in run\n",
      "    self._target(*self._args, **self._kwargs)\n",
      "  File \"/usr/local/Cellar/python/3.7.1/Frameworks/Python.framework/Versions/3.7/lib/python3.7/multiprocessing/process.py\", line 99, in run\n",
      "    self._target(*self._args, **self._kwargs)\n",
      "  File \"/usr/local/lib/python3.7/site-packages/torch/utils/data/dataloader.py\", line 96, in _worker_loop\n",
      "    r = index_queue.get(timeout=MANAGER_STATUS_CHECK_INTERVAL)\n",
      "  File \"/usr/local/lib/python3.7/site-packages/torch/utils/data/dataloader.py\", line 96, in _worker_loop\n",
      "    r = index_queue.get(timeout=MANAGER_STATUS_CHECK_INTERVAL)\n",
      "  File \"/usr/local/Cellar/python/3.7.1/Frameworks/Python.framework/Versions/3.7/lib/python3.7/multiprocessing/queues.py\", line 104, in get\n",
      "    if not self._poll(timeout):\n",
      "  File \"/usr/local/Cellar/python/3.7.1/Frameworks/Python.framework/Versions/3.7/lib/python3.7/multiprocessing/queues.py\", line 104, in get\n",
      "    if not self._poll(timeout):\n",
      "  File \"/usr/local/Cellar/python/3.7.1/Frameworks/Python.framework/Versions/3.7/lib/python3.7/multiprocessing/connection.py\", line 257, in poll\n",
      "    return self._poll(timeout)\n",
      "  File \"/usr/local/Cellar/python/3.7.1/Frameworks/Python.framework/Versions/3.7/lib/python3.7/multiprocessing/connection.py\", line 257, in poll\n",
      "    return self._poll(timeout)\n",
      "  File \"/usr/local/Cellar/python/3.7.1/Frameworks/Python.framework/Versions/3.7/lib/python3.7/multiprocessing/connection.py\", line 414, in _poll\n",
      "    r = wait([self], timeout)\n",
      "  File \"/usr/local/Cellar/python/3.7.1/Frameworks/Python.framework/Versions/3.7/lib/python3.7/multiprocessing/connection.py\", line 414, in _poll\n",
      "    r = wait([self], timeout)\n",
      "  File \"/usr/local/Cellar/python/3.7.1/Frameworks/Python.framework/Versions/3.7/lib/python3.7/multiprocessing/connection.py\", line 920, in wait\n",
      "    ready = selector.select(timeout)\n",
      "  File \"/usr/local/Cellar/python/3.7.1/Frameworks/Python.framework/Versions/3.7/lib/python3.7/multiprocessing/connection.py\", line 920, in wait\n",
      "    ready = selector.select(timeout)\n",
      "  File \"/usr/local/Cellar/python/3.7.1/Frameworks/Python.framework/Versions/3.7/lib/python3.7/selectors.py\", line 415, in select\n",
      "    fd_event_list = self._selector.poll(timeout)\n",
      "  File \"/usr/local/Cellar/python/3.7.1/Frameworks/Python.framework/Versions/3.7/lib/python3.7/selectors.py\", line 415, in select\n",
      "    fd_event_list = self._selector.poll(timeout)\n",
      "KeyboardInterrupt\n",
      "KeyboardInterrupt\n",
      "Exception ignored in: <function _DataLoaderIter.__del__ at 0x116f36d90>\n",
      "Traceback (most recent call last):\n",
      "  File \"/usr/local/lib/python3.7/site-packages/torch/utils/data/dataloader.py\", line 397, in __del__\n",
      "    def __del__(self):\n",
      "  File \"/usr/local/lib/python3.7/site-packages/torch/utils/data/dataloader.py\", line 227, in handler\n",
      "    _error_if_any_worker_fails()\n",
      "RuntimeError: DataLoader worker (pid 22456) exited unexpectedly with exit code 1. Details are lost due to multiprocessing. Rerunning with num_workers=0 may give better error trace.\n"
     ]
    },
    {
     "ename": "KeyboardInterrupt",
     "evalue": "",
     "output_type": "error",
     "traceback": [
      "\u001b[0;31m---------------------------------------------------------------------------\u001b[0m",
      "\u001b[0;31mKeyboardInterrupt\u001b[0m                         Traceback (most recent call last)",
      "\u001b[0;32m<ipython-input-23-d3918c9ab38b>\u001b[0m in \u001b[0;36m<module>\u001b[0;34m()\u001b[0m\n\u001b[1;32m     18\u001b[0m \u001b[0;34m\u001b[0m\u001b[0m\n\u001b[1;32m     19\u001b[0m         \u001b[0mdelta_W\u001b[0m \u001b[0;34m=\u001b[0m \u001b[0mdelta_W\u001b[0m \u001b[0;34m+\u001b[0m \u001b[0;34m(\u001b[0m\u001b[0me\u001b[0m \u001b[0;34m*\u001b[0m \u001b[0;34m(\u001b[0m\u001b[0my\u001b[0m \u001b[0;34m*\u001b[0m \u001b[0;34m(\u001b[0m\u001b[0mone_y\u001b[0m \u001b[0;34m-\u001b[0m \u001b[0my\u001b[0m\u001b[0;34m)\u001b[0m\u001b[0;34m)\u001b[0m\u001b[0;34m)\u001b[0m \u001b[0;34m@\u001b[0m \u001b[0mh\u001b[0m\u001b[0;34m.\u001b[0m\u001b[0mT\u001b[0m\u001b[0;34m\u001b[0m\u001b[0;34m\u001b[0m\u001b[0m\n\u001b[0;32m---> 20\u001b[0;31m         \u001b[0mdelta_W0\u001b[0m \u001b[0;34m=\u001b[0m \u001b[0mdelta_W0\u001b[0m \u001b[0;34m+\u001b[0m \u001b[0;34m(\u001b[0m\u001b[0mdelta_FA\u001b[0m \u001b[0;34m*\u001b[0m \u001b[0;34m(\u001b[0m\u001b[0mh\u001b[0m \u001b[0;34m*\u001b[0m \u001b[0;34m(\u001b[0m\u001b[0mone_h\u001b[0m \u001b[0;34m-\u001b[0m \u001b[0mh\u001b[0m\u001b[0;34m)\u001b[0m\u001b[0;34m)\u001b[0m\u001b[0;34m)\u001b[0m \u001b[0;34m@\u001b[0m \u001b[0mtraining_data\u001b[0m\u001b[0;34m\u001b[0m\u001b[0;34m\u001b[0m\u001b[0m\n\u001b[0m\u001b[1;32m     21\u001b[0m \u001b[0;34m\u001b[0m\u001b[0m\n\u001b[1;32m     22\u001b[0m         \u001b[0msize\u001b[0m \u001b[0;34m+=\u001b[0m \u001b[0mtraining_data\u001b[0m\u001b[0;34m.\u001b[0m\u001b[0mshape\u001b[0m\u001b[0;34m[\u001b[0m\u001b[0;36m0\u001b[0m\u001b[0;34m]\u001b[0m\u001b[0;34m\u001b[0m\u001b[0;34m\u001b[0m\u001b[0m\n",
      "\u001b[0;31mKeyboardInterrupt\u001b[0m: "
     ]
    }
   ],
   "source": [
    "for epoch in range(num_epochs):\n",
    "    \n",
    "    delta_W0, delta_W, loss, size = 0, 0, 0, 0\n",
    "    for training_data, training_labels in tqdm(trainloader, desc=f\"      Epoch {epoch}\"):\n",
    "        training_data, training_labels = training_data.view(-1, 784).numpy(), training_labels.numpy()\n",
    "        training_labels = np.reshape(training_labels, newshape=-1)\n",
    "        training_labels = np.eye(10)[training_labels].T\n",
    "        \n",
    "        h = sigma(W0 @ training_data.T)\n",
    "        y = sigma(W @ h)\n",
    "        e = training_labels - y\n",
    "        loss += 0.5 * np.square(np.linalg.norm(e))\n",
    "        \n",
    "        delta_BP = W.T @ e\n",
    "        delta_FA = B @ e\n",
    "        \n",
    "        one_y, one_h = np.ones_like(y), np.ones_like(h)\n",
    "        \n",
    "        delta_W = delta_W + (e * (y * (one_y - y))) @ h.T\n",
    "        delta_W0 = delta_W0 + (delta_FA * (h * (one_h - h))) @ training_data\n",
    "        \n",
    "        size += training_data.shape[0]\n",
    "    \n",
    "    W = W + (eta / size) * delta_W\n",
    "    W0 = W0 + (eta / size) * delta_W0\n",
    "    if epoch % 10 == 0:\n",
    "        print(f\"      Epoch {epoch}\")\n",
    "        print(f\"      Current loss: {loss}\")"
   ]
  },
  {
   "cell_type": "markdown",
   "metadata": {},
   "source": [
    "## 4-Layer Non-Linear function approximation"
   ]
  },
  {
   "cell_type": "code",
   "execution_count": null,
   "metadata": {},
   "outputs": [],
   "source": [
    "loss"
   ]
  },
  {
   "cell_type": "code",
   "execution_count": null,
   "metadata": {},
   "outputs": [],
   "source": []
  }
 ],
 "metadata": {
  "kernelspec": {
   "display_name": "Python 3",
   "language": "python",
   "name": "python3"
  },
  "language_info": {
   "codemirror_mode": {
    "name": "ipython",
    "version": 3
   },
   "file_extension": ".py",
   "mimetype": "text/x-python",
   "name": "python",
   "nbconvert_exporter": "python",
   "pygments_lexer": "ipython3",
   "version": "3.7.1"
  }
 },
 "nbformat": 4,
 "nbformat_minor": 2
}
