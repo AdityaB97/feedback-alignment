{
 "cells": [
  {
   "cell_type": "markdown",
   "metadata": {},
   "source": [
    "# Feedback Alignment"
   ]
  },
  {
   "cell_type": "markdown",
   "metadata": {},
   "source": [
    "##### Imports and helper functions"
   ]
  },
  {
   "cell_type": "code",
   "execution_count": 3,
   "metadata": {},
   "outputs": [],
   "source": [
    "import numpy as np\n",
    "import torch as th\n",
    "import matplotlib.pyplot as plt\n",
    "import torchvision\n",
    "from tqdm import tqdm\n",
    "from sklearn.model_selection import train_test_split"
   ]
  },
  {
   "cell_type": "code",
   "execution_count": 183,
   "metadata": {},
   "outputs": [],
   "source": [
    "def get_loaders(batch_size, fashion=False):\n",
    "    mnist = torchvision.datasets.MNIST\n",
    "    if fashion:\n",
    "        mnist = torchvision.datasets.FashionMNIST\n",
    "\n",
    "    transform = torchvision.transforms.Compose(\n",
    "        [torchvision.transforms.ToTensor(),])\n",
    "\n",
    "    trainloader = th.utils.data.DataLoader(\n",
    "        mnist(root=\"./data\", train=True, download=True, transform=transform),\n",
    "        batch_size=batch_size,\n",
    "        shuffle=True,\n",
    "        num_workers=2)\n",
    "    testloader = th.utils.data.DataLoader(\n",
    "        mnist(root=\"./data\", train=False, download=True, transform=transform),\n",
    "        batch_size=batch_size,\n",
    "        shuffle=False,\n",
    "        num_workers=2)\n",
    "    return trainloader, testloader"
   ]
  },
  {
   "cell_type": "markdown",
   "metadata": {},
   "source": [
    "## Linear function approximation"
   ]
  },
  {
   "cell_type": "markdown",
   "metadata": {},
   "source": [
    "<img href=\"images/linear.png\">\n",
    "We are considering a three-layer network of linear neurons, shown above. The network's output is $\\boldsymbol{y}=W\\boldsymbol{h}$, where $\\boldsymbol{h}$ is the hidden-unit activity vector, given by $\\boldsymbol{h}=W_0\\boldsymbol{x}$, where $\\boldsymbol{x}$ is the input to the network. $W_0$ is the matrix of synaptic weights from $\\boldsymbol{x}$ to $\\boldsymbol{h}$, and $W$ is the weights from $\\boldsymbol{h}$ to $\\boldsymbol{y}$. The network learns to approximate a linear function, $T$ (for 'target'). It's goal is to reduce the squared error, or loss, $\\mathcal{L}=\\frac{1}{2}\\boldsymbol{e}^{T}\\boldsymbol{e}$, where the error $\\boldsymbol{e}=\\boldsymbol{y^*}-\\boldsymbol{y}=T\\boldsymbol{x}-\\boldsymbol{y}$. To train this network, the feedback alignment algorithm adjusts $W$ in the same way as backprop, i.e. $\\Delta W\\propto\\frac{\\partial\\mathcal{L}}{\\partial W}=-\\boldsymbol{e}\\boldsymbol{h}^T$, but for $W_0$, it uses a simpler formula, which needs no information about $W$ or any other synapses, but instead, sends $\\boldsymbol{e}$ through a fixed random matrix $B$:\n",
    "$$\\Delta W_0\\propto B\\boldsymbol{e}\\boldsymbol{x}^T$$"
   ]
  },
  {
   "cell_type": "markdown",
   "metadata": {},
   "source": [
    "### Data Generation"
   ]
  },
  {
   "cell_type": "markdown",
   "metadata": {},
   "source": [
    "The target linear function $T$ maps vectors from a $30$- to a $10$-dimensional space, i.e. $T$ has a shape of $10\\times 30$. The elements of $T$ are drawn at random, that is, uniformly, from the range $[-1,1]$. Once chosen, the target matrix is fixed, so that each algorithm (i.e. feedback alignment and backpropagation) tried to learn the same function. Moreover, all algorithms are trained on the same sequence of input/output pairs, with $x\\sim{}\\mathcal{N}(\\mu=0,\\Sigma=I)$, $y^*=Tx$. We have chosen the **number of inputs** to be **100**."
   ]
  },
  {
   "cell_type": "markdown",
   "metadata": {},
   "source": [
    "##### linear function, inputs, and output generation"
   ]
  },
  {
   "cell_type": "code",
   "execution_count": 80,
   "metadata": {},
   "outputs": [],
   "source": [
    "num_inputs = 10000\n",
    "\n",
    "T = np.random.uniform(low=-1.0, high=1.0, size=(10, 30))\n",
    "x_data = np.random.randn(30, num_inputs)\n",
    "y_data = T @ x_data"
   ]
  },
  {
   "cell_type": "markdown",
   "metadata": {},
   "source": [
    "`x_data`: `30 x num_inputs`\n",
    "\n",
    "`y_data`: `10 x num_inputs`"
   ]
  },
  {
   "cell_type": "markdown",
   "metadata": {},
   "source": [
    "##### Weights and biases random initalization"
   ]
  },
  {
   "cell_type": "markdown",
   "metadata": {},
   "source": [
    "The elements of $B$ are drawn from the uniform distribution over $[-0.5, 0.5)$, while the elements of the network weight matrix, $W_0$ and $W$, are drawn unifromly from the range $[-0.01,0.01)$."
   ]
  },
  {
   "cell_type": "code",
   "execution_count": 81,
   "metadata": {},
   "outputs": [],
   "source": [
    "a = 0.01\n",
    "W0 = np.random.uniform(-a, a, (20, 30))\n",
    "b0 = np.random.uniform(-a, a, 20)\n",
    "\n",
    "W = np.random.uniform(-a, a, (10, 20))\n",
    "b = np.random.uniform(-a, a, 10)\n",
    "\n",
    "a = 0.5\n",
    "B = np.random.uniform(-a, a, (20, 10))"
   ]
  },
  {
   "cell_type": "markdown",
   "metadata": {},
   "source": [
    "##### Training and Test dataset preparation"
   ]
  },
  {
   "cell_type": "code",
   "execution_count": 82,
   "metadata": {},
   "outputs": [],
   "source": [
    "x_train, x_test, y_train, y_test = train_test_split(x_data.T, y_data.T, test_size=0.25, shuffle=True)\n",
    "x_train, x_test, y_train, y_test = x_train.T, x_test.T, y_train.T, y_test.T"
   ]
  },
  {
   "cell_type": "code",
   "execution_count": 83,
   "metadata": {},
   "outputs": [
    {
     "data": {
      "text/plain": [
       "(30, 2500)"
      ]
     },
     "execution_count": 83,
     "metadata": {},
     "output_type": "execute_result"
    }
   ],
   "source": [
    "x_test.shape"
   ]
  },
  {
   "cell_type": "markdown",
   "metadata": {},
   "source": [
    "##### Hyperparameters"
   ]
  },
  {
   "cell_type": "code",
   "execution_count": 9,
   "metadata": {},
   "outputs": [],
   "source": [
    "eta = 0.1\n",
    "num_epochs = 1000\n",
    "batch_size = 20\n",
    "num_batches = x_train.shape[1] / batch_size"
   ]
  },
  {
   "cell_type": "markdown",
   "metadata": {},
   "source": [
    "##### Creating batches"
   ]
  },
  {
   "cell_type": "code",
   "execution_count": 10,
   "metadata": {},
   "outputs": [],
   "source": [
    "x_train_batches, y_train_batches = np.split(x_train, num_batches, axis=1), np.split(y_train, num_batches, axis=1)"
   ]
  },
  {
   "cell_type": "code",
   "execution_count": 11,
   "metadata": {},
   "outputs": [
    {
     "name": "stdout",
     "output_type": "stream",
     "text": [
      "      Epoch 0\n",
      "      Current loss: 3972.613351303083\n",
      "      Epoch 500\n",
      "      Current loss: 1.5414066916807176e-06\n"
     ]
    }
   ],
   "source": [
    "for epoch in range(num_epochs):\n",
    "    \n",
    "    delta_W0, delta_W, loss = 0, 0, 0\n",
    "    for i in range(len(x_train_batches)):\n",
    "        training_data, training_labels = x_train_batches[i], y_train_batches[i]\n",
    "        \n",
    "        h = W0 @ training_data\n",
    "        y = W @ h\n",
    "        \n",
    "        e = training_labels - y\n",
    "        loss += 0.5 * np.square(np.linalg.norm(e))\n",
    "        \n",
    "        delta_BP = W.T @ e\n",
    "        delta_FA = B @ e\n",
    "        \n",
    "        delta_W = delta_W + e @ h.T\n",
    "        delta_W0 = delta_W0 + B @ e @ training_data.T\n",
    "    \n",
    "    W = W + (eta / (x_train.shape[1])) * delta_W\n",
    "    W0 = W0 + (eta / (x_train.shape[1])) * delta_W0\n",
    "    if epoch % 500 == 0:\n",
    "        print(f\"      Epoch {epoch}\")\n",
    "        print(f\"      Current loss: {loss}\")"
   ]
  },
  {
   "cell_type": "code",
   "execution_count": 12,
   "metadata": {},
   "outputs": [
    {
     "data": {
      "text/plain": [
       "6.168524287000316e-12"
      ]
     },
     "execution_count": 12,
     "metadata": {},
     "output_type": "execute_result"
    }
   ],
   "source": [
    "h = W0 @ x_test\n",
    "y = W @ h\n",
    "e = y_test - y\n",
    "test_error = 0.5 * np.square(np.linalg.norm(e))\n",
    "test_error"
   ]
  },
  {
   "cell_type": "markdown",
   "metadata": {},
   "source": [
    "## Non-Linear function approximation"
   ]
  },
  {
   "cell_type": "markdown",
   "metadata": {},
   "source": [
    "##### Hyperparameters"
   ]
  },
  {
   "cell_type": "code",
   "execution_count": 13,
   "metadata": {},
   "outputs": [],
   "source": [
    "eta = 0.001\n",
    "num_epochs = 5\n",
    "batch_size = 20\n",
    "num_batches = (60000) / batch_size"
   ]
  },
  {
   "cell_type": "markdown",
   "metadata": {},
   "source": [
    "##### Weights and biases random initalization"
   ]
  },
  {
   "cell_type": "code",
   "execution_count": 14,
   "metadata": {},
   "outputs": [],
   "source": [
    "a = 0.01\n",
    "W0 = np.random.uniform(-a, a, (1000, 784))\n",
    "b0 = np.random.uniform(-a, a, 1000)\n",
    "\n",
    "W = np.random.uniform(-a, a, (10, 1000))\n",
    "b = np.random.uniform(-a, a, 10)\n",
    "\n",
    "a = 0.5\n",
    "B = np.random.uniform(-a, a, (1000, 10))"
   ]
  },
  {
   "cell_type": "code",
   "execution_count": 15,
   "metadata": {},
   "outputs": [],
   "source": [
    "u, s, vh = np.linalg.svd(W0)"
   ]
  },
  {
   "cell_type": "markdown",
   "metadata": {},
   "source": [
    "##### Training and Test dataset preparation"
   ]
  },
  {
   "cell_type": "code",
   "execution_count": 41,
   "metadata": {},
   "outputs": [],
   "source": [
    "trainloader, testloader = get_loaders(batch_size)"
   ]
  },
  {
   "cell_type": "code",
   "execution_count": 17,
   "metadata": {},
   "outputs": [],
   "source": [
    "def sigma(x):\n",
    "    return 1 / (1 + np.exp(-x))"
   ]
  },
  {
   "cell_type": "code",
   "execution_count": 18,
   "metadata": {
    "scrolled": false
   },
   "outputs": [
    {
     "name": "stderr",
     "output_type": "stream",
     "text": [
      "      Epoch 0: 100%|██████████| 3000/3000 [00:20<00:00, 149.12it/s]\n",
      "      Epoch 1:   0%|          | 0/3000 [00:00<?, ?it/s]"
     ]
    },
    {
     "name": "stdout",
     "output_type": "stream",
     "text": [
      "      Epoch 0\n",
      "      Current loss: 74997.25899230651\n"
     ]
    },
    {
     "name": "stderr",
     "output_type": "stream",
     "text": [
      "      Epoch 1: 100%|██████████| 3000/3000 [00:20<00:00, 145.18it/s]\n",
      "      Epoch 2: 100%|██████████| 3000/3000 [00:21<00:00, 142.65it/s]\n",
      "      Epoch 3: 100%|██████████| 3000/3000 [00:21<00:00, 140.65it/s]\n",
      "      Epoch 4: 100%|██████████| 3000/3000 [00:23<00:00, 127.02it/s]\n"
     ]
    }
   ],
   "source": [
    "for epoch in range(num_epochs):\n",
    "    delta_W0, delta_W, loss, size = 0, 0, 0, 0\n",
    "    for training_data, training_labels in tqdm(trainloader, desc=f\"      Epoch {epoch}\"):\n",
    "        training_data, training_labels = training_data.view(-1, 784).numpy(), training_labels.numpy()\n",
    "        training_labels = np.reshape(training_labels, newshape=-1)\n",
    "        training_labels = np.eye(10)[training_labels].T\n",
    "        \n",
    "        h = sigma(W0 @ training_data.T)\n",
    "        h = h / np.linalg.norm(h)\n",
    "        y = sigma(W @ h)\n",
    "        e = training_labels - y\n",
    "        loss += 0.5 * np.square(np.linalg.norm(e))\n",
    "        \n",
    "        delta_BP = W.T @ e\n",
    "        delta_FA = B @ e\n",
    "        \n",
    "#         one_y, one_h = np.ones_like(y), np.ones_like(h)\n",
    "        # y' = y * (1 - y)\n",
    "        # h' = h * (1 - h)\n",
    "        \n",
    "        delta_W = delta_W + (e * (y * (1 - y))) @ h.T\n",
    "        delta_W0 = delta_W0 + (delta_FA * h * (1 - h)) @ training_data\n",
    "        \n",
    "        size += training_data.shape[0]\n",
    "    \n",
    "    W = W + eta * delta_W\n",
    "    W0 = W0 + eta * delta_W0\n",
    "    if epoch % 10 == 0:\n",
    "        print(f\"      Epoch {epoch}\")\n",
    "        print(f\"      Current loss: {loss}\")"
   ]
  },
  {
   "cell_type": "markdown",
   "metadata": {},
   "source": [
    "# Pytorch Implementation"
   ]
  },
  {
   "cell_type": "code",
   "execution_count": 300,
   "metadata": {},
   "outputs": [],
   "source": [
    "import torch\n",
    "import torch.nn as nn\n",
    "import torch.autograd as autograd\n",
    "import torch.nn.functional as F\n",
    "import torch.optim as optim\n",
    "import torch.utils.data as data_utils\n",
    "import matplotlib.pyplot as plt"
   ]
  },
  {
   "cell_type": "markdown",
   "metadata": {},
   "source": [
    "## Random Data"
   ]
  },
  {
   "cell_type": "code",
   "execution_count": 193,
   "metadata": {},
   "outputs": [],
   "source": [
    "num_inputs = 10000\n",
    "\n",
    "T = np.random.uniform(low=-1.0, high=1.0, size=(10, 30))\n",
    "x_data = np.random.randn(30, num_inputs)\n",
    "y_data = T @ x_data"
   ]
  },
  {
   "cell_type": "code",
   "execution_count": 194,
   "metadata": {},
   "outputs": [],
   "source": [
    "x_train, x_test, y_train, y_test = train_test_split(x_data.T, y_data.T, test_size=0.25, shuffle=True)\n",
    "x_train, x_test, y_train, y_test = x_train.T, x_test.T, y_train.T, y_test.T"
   ]
  },
  {
   "cell_type": "code",
   "execution_count": 195,
   "metadata": {},
   "outputs": [],
   "source": [
    "x_train, y_train = torch.from_numpy(x_train.T).float(), torch.from_numpy(y_train.T).float()\n",
    "training_data = data_utils.TensorDataset(x_train, y_train)\n",
    "trainloader = data_utils.DataLoader(training_data, batch_size=50)\n",
    "\n",
    "x_test = torch.from_numpy(x_test.T).float()\n",
    "y_test = torch.from_numpy(y_test.T).float()"
   ]
  },
  {
   "cell_type": "code",
   "execution_count": 196,
   "metadata": {},
   "outputs": [],
   "source": [
    "class RegularNetwork(nn.Module):\n",
    "    def __init__(self):\n",
    "        super(RegularNetwork, self).__init__()\n",
    "        self.hidden = nn.Linear(30, 20)\n",
    "        self.output = nn.Linear(20, 10)\n",
    "        \n",
    "    def forward(self, x):\n",
    "        x = self.hidden(x)\n",
    "        x = self.output(x)\n",
    "        return x"
   ]
  },
  {
   "cell_type": "code",
   "execution_count": 197,
   "metadata": {},
   "outputs": [],
   "source": [
    "def T_error(net, T):\n",
    "    estimated_T = torch.mm(net.hidden.weight.data.t(), net.output.weight.data.t()).numpy()\n",
    "    return np.linalg.norm(estimated_T - T.T)"
   ]
  },
  {
   "cell_type": "code",
   "execution_count": 210,
   "metadata": {
    "scrolled": true
   },
   "outputs": [
    {
     "name": "stdout",
     "output_type": "stream",
     "text": [
      "\n",
      "-------------------\n",
      "Epoch 0\n",
      "-------------------\n",
      "Current loss: 11.601390838623047\n",
      "Current loss: 7.357933521270752\n",
      "\n",
      "-------------------\n",
      "Epoch 1\n",
      "-------------------\n",
      "Current loss: 7.572291374206543\n",
      "Current loss: 3.227675437927246\n",
      "\n",
      "-------------------\n",
      "Epoch 2\n",
      "-------------------\n",
      "Current loss: 2.8954145908355713\n",
      "Current loss: 0.9991203546524048\n",
      "\n",
      "-------------------\n",
      "Epoch 3\n",
      "-------------------\n",
      "Current loss: 0.7000359296798706\n",
      "Current loss: 0.21126991510391235\n",
      "\n",
      "-------------------\n",
      "Epoch 4\n",
      "-------------------\n",
      "Current loss: 0.10931491106748581\n",
      "Current loss: 0.03752278909087181\n",
      "\n",
      "-------------------\n",
      "Epoch 5\n",
      "-------------------\n",
      "Current loss: 0.019157666712999344\n",
      "Current loss: 0.007938474416732788\n"
     ]
    }
   ],
   "source": [
    "net = RegularNetwork()\n",
    "\n",
    "optimizer = optim.SGD(net.parameters(), lr=0.01)\n",
    "criterion = nn.MSELoss()\n",
    "loss = float('inf')\n",
    "training_losses = []\n",
    "test_losses = []\n",
    "T_errors = []\n",
    "epoch = 0\n",
    "\n",
    "while float(loss) > 0.01:\n",
    "    print(f\"\"\"\n",
    "-------------------\n",
    "Epoch {epoch}\n",
    "-------------------\"\"\")\n",
    "    for i, data in enumerate(trainloader):\n",
    "        inputs, labels = data\n",
    "        optimizer.zero_grad()\n",
    "        outputs = net(inputs)\n",
    "        loss = criterion(outputs, labels)\n",
    "        loss.backward()\n",
    "        optimizer.step()\n",
    "        \n",
    "        training_losses.append(float(loss))\n",
    "        T_errors.append(T_error(net, T))\n",
    "        test_outputs = net(x_test)\n",
    "        test_loss = criterion(test_outputs, y_test)\n",
    "        test_losses.append(test_loss)\n",
    "        \n",
    "        if i % 100 == 0:\n",
    "            print(f'Current training loss: {float(loss)}')\n",
    "    epoch += 1"
   ]
  },
  {
   "cell_type": "code",
   "execution_count": 204,
   "metadata": {},
   "outputs": [
    {
     "data": {
      "image/png": "[encoded data removed]",
      "text/plain": [
       "<Figure size 432x288 with 1 Axes>"
      ]
     },
     "metadata": {},
     "output_type": "display_data"
    }
   ],
   "source": [
    "plt.title('Training loss over time')\n",
    "plt.xlabel('Number of gradient steps')\n",
    "plt.ylabel('MSE Loss')\n",
    "plt.plot(training_losses)\n",
    "plt.show()"
   ]
  },
  {
   "cell_type": "code",
   "execution_count": 211,
   "metadata": {},
   "outputs": [
    {
     "data": {
      "image/png": "[encoded data removed]",
      "text/plain": [
       "<Figure size 432x288 with 1 Axes>"
      ]
     },
     "metadata": {},
     "output_type": "display_data"
    }
   ],
   "source": [
    "plt.title('Test loss over time')\n",
    "plt.xlabel('Number of gradient steps')\n",
    "plt.ylabel('MSE Loss')\n",
    "plt.plot(test_losses)\n",
    "plt.show()"
   ]
  },
  {
   "cell_type": "code",
   "execution_count": 212,
   "metadata": {},
   "outputs": [
    {
     "data": {
      "image/png": "[encoded data removed]",
      "text/plain": [
       "<Figure size 432x288 with 1 Axes>"
      ]
     },
     "metadata": {},
     "output_type": "display_data"
    }
   ],
   "source": [
    "plt.title('Error in T over time')\n",
    "plt.xlabel('Number of gradient steps')\n",
    "plt.ylabel('Norm of T_estimate - T')\n",
    "plt.plot(T_errors)\n",
    "plt.show()"
   ]
  },
  {
   "cell_type": "markdown",
   "metadata": {},
   "source": [
    "## MNIST"
   ]
  },
  {
   "cell_type": "code",
   "execution_count": 365,
   "metadata": {},
   "outputs": [],
   "source": [
    "def train_network(net, num_epochs, trainloader, testloader):\n",
    "    optimizer = optim.SGD(net.parameters(), lr=0.01)\n",
    "    criterion = nn.MSELoss()\n",
    "    loss = float('inf')\n",
    "    training_losses = []\n",
    "    test_losses = []\n",
    "    epoch = 0\n",
    "\n",
    "    while epoch < num_epochs:\n",
    "        print(f\"\"\"\n",
    "-------------------\n",
    "Epoch {epoch}\n",
    "-------------------\"\"\")\n",
    "        for i, data in enumerate(trainloader):\n",
    "            inputs, labels = data\n",
    "            inputs = inputs.view((50, 784)).float()\n",
    "            labels = torch.zeros(len(labels), 10).scatter_(1, labels.unsqueeze(1), 1.).float()\n",
    "            optimizer.zero_grad()\n",
    "            outputs = net(inputs)\n",
    "            loss = criterion(outputs, labels)\n",
    "            loss.backward()\n",
    "            optimizer.step()\n",
    "\n",
    "            training_losses.append(float(loss))\n",
    "\n",
    "            if i % 100 == 0:\n",
    "                print(f'Current training loss: {float(loss)}')\n",
    "                test_loss = calculate_test_loss(net, criterion, testloader)\n",
    "                test_losses.append(test_loss)\n",
    "        epoch += 1\n",
    "        \n",
    "    return training_losses, test_losses\n",
    "\n",
    "def calculate_test_loss(net, criterion, testloader):\n",
    "    all_inputs = []\n",
    "    all_labels = []\n",
    "    for data in testloader:\n",
    "        inputs, labels = data\n",
    "        all_inputs.append(inputs)\n",
    "        all_labels.append(labels)\n",
    "            \n",
    "    all_inputs = torch.cat(all_inputs)\n",
    "    all_labels = torch.cat(all_labels)\n",
    "    \n",
    "    all_inputs = all_inputs.view((len(all_inputs), 784)).float()\n",
    "    all_labels = torch.zeros(len(all_labels), 10).scatter_(1, all_labels.unsqueeze(1), 1.).float()\n",
    "    \n",
    "    all_outputs = net(all_inputs)\n",
    "    loss = criterion(all_outputs, all_labels)\n",
    "    return loss.float()\n",
    "\n",
    "def plot_losses(losses, title):\n",
    "    plt.title(title)\n",
    "    plt.xlabel('Number of gradient steps')\n",
    "    plt.ylabel('MSE Loss')\n",
    "    plt.plot(losses)\n",
    "    plt.show()"
   ]
  },
  {
   "cell_type": "code",
   "execution_count": 366,
   "metadata": {},
   "outputs": [],
   "source": [
    "class Network(nn.Module):\n",
    "    def __init__(self):\n",
    "        super(Network, self).__init__()\n",
    "        self.hidden = nn.Linear(784, 1000)\n",
    "        self.output = nn.Linear(1000, 10)\n",
    "        \n",
    "    def forward(self, x):\n",
    "        x = self.hidden(x)\n",
    "        x = self.output(x)\n",
    "        return x"
   ]
  },
  {
   "cell_type": "code",
   "execution_count": 367,
   "metadata": {},
   "outputs": [],
   "source": [
    "trainloader, testloader = get_loaders(50)\n",
    "net = Network()"
   ]
  },
  {
   "cell_type": "code",
   "execution_count": 368,
   "metadata": {},
   "outputs": [
    {
     "name": "stdout",
     "output_type": "stream",
     "text": [
      "\n",
      "    -------------------\n",
      "    Epoch 0\n",
      "    -------------------\n",
      "Current training loss: 0.11194469779729843\n",
      "Current training loss: 0.07196813821792603\n",
      "Current training loss: 0.05627508461475372\n",
      "Current training loss: 0.06339691579341888\n",
      "Current training loss: 0.05714600160717964\n",
      "Current training loss: 0.051428116858005524\n",
      "Current training loss: 0.05026338994503021\n",
      "Current training loss: 0.051901355385780334\n",
      "Current training loss: 0.04771154746413231\n",
      "Current training loss: 0.04665264114737511\n",
      "Current training loss: 0.046843018382787704\n",
      "Current training loss: 0.047079626470804214\n",
      "\n",
      "    -------------------\n",
      "    Epoch 1\n",
      "    -------------------\n",
      "Current training loss: 0.04736104607582092\n",
      "Current training loss: 0.04296129196882248\n",
      "Current training loss: 0.049099069088697433\n",
      "Current training loss: 0.05236106365919113\n",
      "Current training loss: 0.040156394243240356\n",
      "Current training loss: 0.04363003373146057\n",
      "Current training loss: 0.04338174685835838\n",
      "Current training loss: 0.039582401514053345\n",
      "Current training loss: 0.04695732146501541\n",
      "Current training loss: 0.04333619400858879\n",
      "Current training loss: 0.04845511540770531\n",
      "Current training loss: 0.04870937392115593\n"
     ]
    }
   ],
   "source": [
    "training_losses, test_losses = train_network(net, 2, trainloader, testloader)"
   ]
  },
  {
   "cell_type": "code",
   "execution_count": 369,
   "metadata": {},
   "outputs": [
    {
     "data": {
      "image/png": "[encoded data removed]",
      "text/plain": [
       "<Figure size 432x288 with 1 Axes>"
      ]
     },
     "metadata": {},
     "output_type": "display_data"
    }
   ],
   "source": [
    "plot_losses(training_losses, 'Training loss over time')"
   ]
  },
  {
   "cell_type": "code",
   "execution_count": 370,
   "metadata": {},
   "outputs": [
    {
     "data": {
      "image/png": "[encoded data removed]",
      "text/plain": [
       "<Figure size 432x288 with 1 Axes>"
      ]
     },
     "metadata": {},
     "output_type": "display_data"
    }
   ],
   "source": [
    "plot_losses(test_losses, 'Test loss over time')"
   ]
  },
  {
   "cell_type": "markdown",
   "metadata": {},
   "source": [
    "## Feedback Alignment"
   ]
  },
  {
   "cell_type": "code",
   "execution_count": 371,
   "metadata": {},
   "outputs": [],
   "source": [
    "class LinearFunctionFA(autograd.Function):\n",
    "    @staticmethod\n",
    "    def forward(ctx, input, weight, weight_fa, bias=None):\n",
    "        ctx.save_for_backward(input, weight, weight_fa, bias)\n",
    "        output = input.mm(weight.t())\n",
    "        if bias is not None:\n",
    "            output += bias.unsqueeze(0).expand_as(output)\n",
    "        return output\n",
    "\n",
    "    @staticmethod\n",
    "    def backward(ctx, grad_output):\n",
    "        input, weight, weight_fa, bias = ctx.saved_tensors\n",
    "        grad_input = grad_weight = grad_weight_fa = grad_bias = None\n",
    "\n",
    "        if ctx.needs_input_grad[0]:\n",
    "            grad_input = grad_output.mm(weight_fa)\n",
    "        if ctx.needs_input_grad[1]:\n",
    "            grad_weight = grad_output.t().mm(input)\n",
    "        if bias is not None and ctx.needs_input_grad[2]:\n",
    "            grad_bias = grad_output.sum(0).squeeze(0)\n",
    "\n",
    "        return grad_input, grad_weight, grad_weight_fa, grad_bias\n",
    "\n",
    "    \n",
    "class LinearFA(nn.Module):\n",
    "    def __init__(self, input_features, output_features, bias=True):\n",
    "        super(LinearFA, self).__init__()\n",
    "        self.input_features = input_features\n",
    "        self.output_features = output_features\n",
    "\n",
    "        self.weight = nn.Parameter(torch.Tensor(output_features, input_features))\n",
    "        if bias:\n",
    "            self.bias = nn.Parameter(torch.Tensor(output_features))\n",
    "        else:\n",
    "            self.register_parameter('bias', None)\n",
    "            \n",
    "        self.weight_fa = torch.Tensor(output_features, input_features)\n",
    "        \n",
    "        # Not a very smart way to initialize weights\n",
    "        self.weight.data.uniform_(-0.1, 0.1)\n",
    "        self.weight_fa.data.uniform_(-0.1, 0.1)\n",
    "        if bias is not None:\n",
    "            self.bias.data.uniform_(-0.1, 0.1)\n",
    "            \n",
    "    def forward(self, input):\n",
    "        return LinearFunctionFA.apply(input, self.weight, self.weight_fa, self.bias)\n",
    "\n",
    "    def extra_repr(self):\n",
    "        return 'in_features={}, out_features={}, bias={}'.format(\n",
    "            self.input_features, self.output_features, self.bias is not None\n",
    "        )\n",
    "\n",
    "\n",
    "class NetworkFA(nn.Module):\n",
    "    def __init__(self, layer_sizes):\n",
    "        super(NetworkFA, self).__init__()\n",
    "        input_size = 784\n",
    "        output_size = 10\n",
    "        self.layers = nn.ModuleList()\n",
    "        self.backward_matrices = []\n",
    "        for layer_size in layer_sizes:\n",
    "            self.layers.append(LinearFA(input_size, layer_size))\n",
    "            input_size = layer_size\n",
    "        self.layers.append(LinearFA(input_size, output_size))\n",
    "        # self.layers = nn.ModuleList(self.layers)\n",
    "        \n",
    "    def forward(self, x):\n",
    "        for layer in self.layers:\n",
    "            x = layer(x)\n",
    "        return x\n",
    "        "
   ]
  },
  {
   "cell_type": "code",
   "execution_count": 373,
   "metadata": {},
   "outputs": [],
   "source": [
    "net_fa = NetworkFA([1000])"
   ]
  },
  {
   "cell_type": "code",
   "execution_count": 374,
   "metadata": {},
   "outputs": [
    {
     "name": "stdout",
     "output_type": "stream",
     "text": [
      "\n",
      "    -------------------\n",
      "    Epoch 0\n",
      "    -------------------\n",
      "Current training loss: 1.0847026109695435\n",
      "Current training loss: 0.20242880284786224\n",
      "Current training loss: 0.15236762166023254\n",
      "Current training loss: 0.1396704763174057\n",
      "Current training loss: 0.1399211287498474\n",
      "Current training loss: 0.0994403287768364\n",
      "Current training loss: 0.12219938635826111\n",
      "Current training loss: 0.09777261316776276\n",
      "Current training loss: 0.1040581464767456\n",
      "Current training loss: 0.0993775725364685\n",
      "Current training loss: 0.09353389590978622\n",
      "Current training loss: 0.10480168461799622\n",
      "\n",
      "    -------------------\n",
      "    Epoch 1\n",
      "    -------------------\n",
      "Current training loss: 0.08406037092208862\n",
      "Current training loss: 0.08072341978549957\n",
      "Current training loss: 0.08741261065006256\n",
      "Current training loss: 0.06820905208587646\n",
      "Current training loss: 0.0773511752486229\n",
      "Current training loss: 0.07265724986791611\n",
      "Current training loss: 0.07067744433879852\n",
      "Current training loss: 0.06864539533853531\n",
      "Current training loss: 0.07421491295099258\n",
      "Current training loss: 0.05841292068362236\n",
      "Current training loss: 0.0687871128320694\n",
      "Current training loss: 0.0655212327837944\n"
     ]
    }
   ],
   "source": [
    "training_losses_fa, test_losses_fa = train_network(net_fa, 2, trainloader, testloader)"
   ]
  },
  {
   "cell_type": "code",
   "execution_count": 376,
   "metadata": {},
   "outputs": [
    {
     "data": {
      "image/png": "[encoded data removed]",
      "text/plain": [
       "<Figure size 432x288 with 1 Axes>"
      ]
     },
     "metadata": {},
     "output_type": "display_data"
    }
   ],
   "source": [
    "plot_losses(training_losses_fa, 'Training loss over time')"
   ]
  },
  {
   "cell_type": "code",
   "execution_count": 377,
   "metadata": {},
   "outputs": [
    {
     "data": {
      "image/png": "[encoded data removed]",
      "text/plain": [
       "<Figure size 432x288 with 1 Axes>"
      ]
     },
     "metadata": {},
     "output_type": "display_data"
    }
   ],
   "source": [
    "plot_losses(test_losses_fa, 'Test loss over time')"
   ]
  },
  {
   "cell_type": "markdown",
   "metadata": {},
   "source": [
    "### Comparison of FA and regular backprop"
   ]
  },
  {
   "cell_type": "code",
   "execution_count": 401,
   "metadata": {},
   "outputs": [
    {
     "data": {
      "image/png": "[encoded data removed]",
      "text/plain": [
       "<Figure size 432x288 with 1 Axes>"
      ]
     },
     "metadata": {},
     "output_type": "display_data"
    }
   ],
   "source": [
    "plt.plot(test_losses, label='Backprop')\n",
    "plt.plot(test_losses_fa, label='Feedback alignment')\n",
    "plt.legend()\n",
    "plt.show()"
   ]
  },
  {
   "cell_type": "markdown",
   "metadata": {},
   "source": [
    "\n",
    "\n",
    "## 4-Layer Non-Linear function approximation"
   ]
  },
  {
   "cell_type": "code",
   "execution_count": null,
   "metadata": {},
   "outputs": [],
   "source": []
  }
 ],
 "metadata": {
  "kernelspec": {
   "display_name": "Python 3",
   "language": "python",
   "name": "python3"
  },
  "language_info": {
   "codemirror_mode": {
    "name": "ipython",
    "version": 3
   },
   "file_extension": ".py",
   "mimetype": "text/x-python",
   "name": "python",
   "nbconvert_exporter": "python",
   "pygments_lexer": "ipython3",
   "version": "3.6.6"
  }
 },
 "nbformat": 4,
 "nbformat_minor": 2
}
